{
 "cells": [
  {
   "cell_type": "code",
   "execution_count": 1,
   "id": "3f7a2211",
   "metadata": {},
   "outputs": [],
   "source": [
    "import pandas as pd\n",
    "import numpy as np\n",
    "import seaborn as sns\n",
    "import matplotlib.pyplot as plt"
   ]
  },
  {
   "cell_type": "code",
   "execution_count": 2,
   "id": "1b987d7d",
   "metadata": {},
   "outputs": [],
   "source": [
    "df_train = pd.read_csv(\"train.csv\", index_col=[0])\n",
    "df_test = pd.read_csv(\"test.csv\", index_col = [0])"
   ]
  },
  {
   "cell_type": "code",
   "execution_count": 5,
   "id": "eaad6b33",
   "metadata": {},
   "outputs": [
    {
     "data": {
      "text/plain": [
       "surgery                   object\n",
       "age                       object\n",
       "hospital_number            int64\n",
       "rectal_temp              float64\n",
       "pulse                    float64\n",
       "respiratory_rate         float64\n",
       "temp_of_extremities       object\n",
       "peripheral_pulse          object\n",
       "mucous_membrane           object\n",
       "capillary_refill_time     object\n",
       "pain                      object\n",
       "peristalsis               object\n",
       "abdominal_distention      object\n",
       "nasogastric_tube          object\n",
       "nasogastric_reflux        object\n",
       "nasogastric_reflux_ph    float64\n",
       "rectal_exam_feces         object\n",
       "abdomen                   object\n",
       "packed_cell_volume       float64\n",
       "total_protein            float64\n",
       "abdomo_appearance         object\n",
       "abdomo_protein           float64\n",
       "surgical_lesion           object\n",
       "lesion_1                   int64\n",
       "lesion_2                   int64\n",
       "lesion_3                   int64\n",
       "cp_data                   object\n",
       "outcome                   object\n",
       "dtype: object"
      ]
     },
     "execution_count": 5,
     "metadata": {},
     "output_type": "execute_result"
    }
   ],
   "source": [
    "#chect feature data type\n",
    "df_train.dtypes"
   ]
  },
  {
   "cell_type": "code",
   "execution_count": 6,
   "id": "d60be6cf",
   "metadata": {},
   "outputs": [
    {
     "data": {
      "text/plain": [
       "surgery                  0\n",
       "age                      0\n",
       "hospital_number          0\n",
       "rectal_temp              0\n",
       "pulse                    0\n",
       "respiratory_rate         0\n",
       "temp_of_extremities      0\n",
       "peripheral_pulse         0\n",
       "mucous_membrane          0\n",
       "capillary_refill_time    0\n",
       "pain                     0\n",
       "peristalsis              0\n",
       "abdominal_distention     0\n",
       "nasogastric_tube         0\n",
       "nasogastric_reflux       0\n",
       "nasogastric_reflux_ph    0\n",
       "rectal_exam_feces        0\n",
       "abdomen                  0\n",
       "packed_cell_volume       0\n",
       "total_protein            0\n",
       "abdomo_appearance        0\n",
       "abdomo_protein           0\n",
       "surgical_lesion          0\n",
       "lesion_1                 0\n",
       "lesion_2                 0\n",
       "lesion_3                 0\n",
       "cp_data                  0\n",
       "outcome                  0\n",
       "dtype: int64"
      ]
     },
     "execution_count": 6,
     "metadata": {},
     "output_type": "execute_result"
    }
   ],
   "source": [
    "#check train data for Nan\n",
    "df_train.isna().sum()"
   ]
  },
  {
   "cell_type": "code",
   "execution_count": 7,
   "id": "cd8934cb",
   "metadata": {},
   "outputs": [
    {
     "data": {
      "text/plain": [
       "surgery                  0\n",
       "age                      0\n",
       "hospital_number          0\n",
       "rectal_temp              0\n",
       "pulse                    0\n",
       "respiratory_rate         0\n",
       "temp_of_extremities      0\n",
       "peripheral_pulse         0\n",
       "mucous_membrane          0\n",
       "capillary_refill_time    0\n",
       "pain                     0\n",
       "peristalsis              0\n",
       "abdominal_distention     0\n",
       "nasogastric_tube         0\n",
       "nasogastric_reflux       0\n",
       "nasogastric_reflux_ph    0\n",
       "rectal_exam_feces        0\n",
       "abdomen                  0\n",
       "packed_cell_volume       0\n",
       "total_protein            0\n",
       "abdomo_appearance        0\n",
       "abdomo_protein           0\n",
       "surgical_lesion          0\n",
       "lesion_1                 0\n",
       "lesion_2                 0\n",
       "lesion_3                 0\n",
       "cp_data                  0\n",
       "dtype: int64"
      ]
     },
     "execution_count": 7,
     "metadata": {},
     "output_type": "execute_result"
    }
   ],
   "source": [
    "#check test data for NAn\n",
    "df_test.isna().sum()"
   ]
  },
  {
   "cell_type": "code",
   "execution_count": 8,
   "id": "50ec122d",
   "metadata": {},
   "outputs": [
    {
     "data": {
      "text/plain": [
       "lived         574\n",
       "died          410\n",
       "euthanized    251\n",
       "Name: outcome, dtype: int64"
      ]
     },
     "execution_count": 8,
     "metadata": {},
     "output_type": "execute_result"
    }
   ],
   "source": [
    "#check distribution of target values\n",
    "df_train.outcome.value_counts()"
   ]
  },
  {
   "cell_type": "code",
   "execution_count": 9,
   "id": "c5b1994b",
   "metadata": {},
   "outputs": [],
   "source": [
    "#get numeric and string features\n",
    "numerical_columns = df_train.drop(\"hospital_number\", axis = 1).select_dtypes(include = np.number).columns.tolist()\n",
    "string_columns = df_train.drop(\"outcome\", axis = 1).select_dtypes(include = object).columns.tolist()"
   ]
  },
  {
   "cell_type": "code",
   "execution_count": 10,
   "id": "a4949ea6",
   "metadata": {},
   "outputs": [],
   "source": [
    "from sklearn.preprocessing import LabelEncoder, StandardScaler"
   ]
  },
  {
   "cell_type": "code",
   "execution_count": 11,
   "id": "3585930d",
   "metadata": {},
   "outputs": [],
   "source": [
    "label_encoder = LabelEncoder()"
   ]
  },
  {
   "cell_type": "code",
   "execution_count": 12,
   "id": "1f52a5ec",
   "metadata": {},
   "outputs": [
    {
     "data": {
      "text/plain": [
       "LabelEncoder()"
      ]
     },
     "execution_count": 12,
     "metadata": {},
     "output_type": "execute_result"
    }
   ],
   "source": [
    "label_encoder.fit(df_train[\"outcome\"])"
   ]
  },
  {
   "cell_type": "code",
   "execution_count": 13,
   "id": "f809b485",
   "metadata": {},
   "outputs": [
    {
     "name": "stdout",
     "output_type": "stream",
     "text": [
      "['died' 'euthanized' 'lived']\n"
     ]
    }
   ],
   "source": [
    "print(label_encoder.classes_)"
   ]
  },
  {
   "cell_type": "code",
   "execution_count": 14,
   "id": "16ee9cb0",
   "metadata": {},
   "outputs": [],
   "source": [
    "#Label encode the target variable\n",
    "df_train[\"outcome\"] = label_encoder.transform(df_train[\"outcome\"])"
   ]
  },
  {
   "cell_type": "code",
   "execution_count": 15,
   "id": "433a234c",
   "metadata": {},
   "outputs": [
    {
     "data": {
      "text/plain": [
       "array(['died', 'euthanized', 'lived'], dtype=object)"
      ]
     },
     "execution_count": 15,
     "metadata": {},
     "output_type": "execute_result"
    }
   ],
   "source": [
    "label_encoder.inverse_transform([0,1,2])"
   ]
  },
  {
   "cell_type": "code",
   "execution_count": 16,
   "id": "bbcdb10c",
   "metadata": {},
   "outputs": [],
   "source": [
    "#OneHot encode string variables for both trainand test data\n",
    "df_train_encoded = pd.get_dummies(df_train[string_columns])\n",
    "df_test_encoded  = pd.get_dummies(df_test[string_columns])"
   ]
  },
  {
   "cell_type": "code",
   "execution_count": 17,
   "id": "55437b69",
   "metadata": {},
   "outputs": [
    {
     "data": {
      "text/plain": [
       "(824, 69)"
      ]
     },
     "execution_count": 17,
     "metadata": {},
     "output_type": "execute_result"
    }
   ],
   "source": [
    "df_test_encoded.shape"
   ]
  },
  {
   "cell_type": "code",
   "execution_count": 18,
   "id": "803d6580",
   "metadata": {},
   "outputs": [],
   "source": [
    "# merge with the data frames and drop the corresponding string data\n",
    "df_train = df_train.join(df_train_encoded).drop(string_columns, axis = 1)\n",
    "df_test = df_test.join(df_test_encoded).drop(string_columns, axis = 1)"
   ]
  },
  {
   "cell_type": "code",
   "execution_count": 19,
   "id": "46a40e99",
   "metadata": {},
   "outputs": [],
   "source": [
    "#find missing features in test data\n",
    "feature_difference = list(set(df_train.drop(\"outcome\", axis = 1)) - set(df_test))"
   ]
  },
  {
   "cell_type": "code",
   "execution_count": 21,
   "id": "478d3d92",
   "metadata": {},
   "outputs": [],
   "source": [
    "#set the missing feature values to nan\n",
    "df_feature_difference = pd.DataFrame(data=np.nan, index= df_test.index, columns=list(feature_difference))"
   ]
  },
  {
   "cell_type": "code",
   "execution_count": 22,
   "id": "151c8a22",
   "metadata": {},
   "outputs": [],
   "source": [
    "# and join with the test data\n",
    "df_test = df_test.join(df_feature_difference)"
   ]
  },
  {
   "cell_type": "code",
   "execution_count": 23,
   "id": "226a746b",
   "metadata": {},
   "outputs": [],
   "source": [
    "df_test[feature_difference] = df_test[feature_difference].fillna(0)"
   ]
  },
  {
   "cell_type": "code",
   "execution_count": 24,
   "id": "a8d580a4",
   "metadata": {},
   "outputs": [],
   "source": [
    "features = df_train.drop(\"outcome\",axis=1).columns.tolist()"
   ]
  },
  {
   "cell_type": "code",
   "execution_count": 25,
   "id": "957b7f58",
   "metadata": {},
   "outputs": [],
   "source": [
    "#make sure the order of the features in the test data is the same with the train data\n",
    "df_test = df_test[features]"
   ]
  },
  {
   "cell_type": "code",
   "execution_count": 26,
   "id": "c9cda724",
   "metadata": {},
   "outputs": [
    {
     "data": {
      "text/html": [
       "<div>\n",
       "<style scoped>\n",
       "    .dataframe tbody tr th:only-of-type {\n",
       "        vertical-align: middle;\n",
       "    }\n",
       "\n",
       "    .dataframe tbody tr th {\n",
       "        vertical-align: top;\n",
       "    }\n",
       "\n",
       "    .dataframe thead th {\n",
       "        text-align: right;\n",
       "    }\n",
       "</style>\n",
       "<table border=\"1\" class=\"dataframe\">\n",
       "  <thead>\n",
       "    <tr style=\"text-align: right;\">\n",
       "      <th></th>\n",
       "      <th>hospital_number</th>\n",
       "      <th>rectal_temp</th>\n",
       "      <th>pulse</th>\n",
       "      <th>respiratory_rate</th>\n",
       "      <th>nasogastric_reflux_ph</th>\n",
       "      <th>packed_cell_volume</th>\n",
       "      <th>total_protein</th>\n",
       "      <th>abdomo_protein</th>\n",
       "      <th>lesion_1</th>\n",
       "      <th>lesion_2</th>\n",
       "      <th>...</th>\n",
       "      <th>abdomen_normal</th>\n",
       "      <th>abdomen_other</th>\n",
       "      <th>abdomo_appearance_None</th>\n",
       "      <th>abdomo_appearance_clear</th>\n",
       "      <th>abdomo_appearance_cloudy</th>\n",
       "      <th>abdomo_appearance_serosanguious</th>\n",
       "      <th>surgical_lesion_no</th>\n",
       "      <th>surgical_lesion_yes</th>\n",
       "      <th>cp_data_no</th>\n",
       "      <th>cp_data_yes</th>\n",
       "    </tr>\n",
       "    <tr>\n",
       "      <th>id</th>\n",
       "      <th></th>\n",
       "      <th></th>\n",
       "      <th></th>\n",
       "      <th></th>\n",
       "      <th></th>\n",
       "      <th></th>\n",
       "      <th></th>\n",
       "      <th></th>\n",
       "      <th></th>\n",
       "      <th></th>\n",
       "      <th></th>\n",
       "      <th></th>\n",
       "      <th></th>\n",
       "      <th></th>\n",
       "      <th></th>\n",
       "      <th></th>\n",
       "      <th></th>\n",
       "      <th></th>\n",
       "      <th></th>\n",
       "      <th></th>\n",
       "      <th></th>\n",
       "    </tr>\n",
       "  </thead>\n",
       "  <tbody>\n",
       "    <tr>\n",
       "      <th>1235</th>\n",
       "      <td>534053</td>\n",
       "      <td>38.6</td>\n",
       "      <td>40.0</td>\n",
       "      <td>20.0</td>\n",
       "      <td>7.0</td>\n",
       "      <td>42.0</td>\n",
       "      <td>7.5</td>\n",
       "      <td>2.3</td>\n",
       "      <td>0</td>\n",
       "      <td>0</td>\n",
       "      <td>...</td>\n",
       "      <td>0</td>\n",
       "      <td>0</td>\n",
       "      <td>0</td>\n",
       "      <td>1</td>\n",
       "      <td>0</td>\n",
       "      <td>0</td>\n",
       "      <td>1</td>\n",
       "      <td>0</td>\n",
       "      <td>1</td>\n",
       "      <td>0</td>\n",
       "    </tr>\n",
       "    <tr>\n",
       "      <th>1236</th>\n",
       "      <td>528469</td>\n",
       "      <td>38.2</td>\n",
       "      <td>112.0</td>\n",
       "      <td>48.0</td>\n",
       "      <td>3.5</td>\n",
       "      <td>44.0</td>\n",
       "      <td>6.0</td>\n",
       "      <td>2.6</td>\n",
       "      <td>2208</td>\n",
       "      <td>0</td>\n",
       "      <td>...</td>\n",
       "      <td>0</td>\n",
       "      <td>0</td>\n",
       "      <td>0</td>\n",
       "      <td>0</td>\n",
       "      <td>0</td>\n",
       "      <td>1</td>\n",
       "      <td>1</td>\n",
       "      <td>0</td>\n",
       "      <td>0</td>\n",
       "      <td>1</td>\n",
       "    </tr>\n",
       "    <tr>\n",
       "      <th>1237</th>\n",
       "      <td>528178</td>\n",
       "      <td>37.7</td>\n",
       "      <td>66.0</td>\n",
       "      <td>12.0</td>\n",
       "      <td>3.0</td>\n",
       "      <td>31.5</td>\n",
       "      <td>6.0</td>\n",
       "      <td>1.6</td>\n",
       "      <td>2205</td>\n",
       "      <td>0</td>\n",
       "      <td>...</td>\n",
       "      <td>0</td>\n",
       "      <td>0</td>\n",
       "      <td>0</td>\n",
       "      <td>0</td>\n",
       "      <td>1</td>\n",
       "      <td>0</td>\n",
       "      <td>0</td>\n",
       "      <td>1</td>\n",
       "      <td>0</td>\n",
       "      <td>1</td>\n",
       "    </tr>\n",
       "    <tr>\n",
       "      <th>1238</th>\n",
       "      <td>534784</td>\n",
       "      <td>37.1</td>\n",
       "      <td>88.0</td>\n",
       "      <td>20.0</td>\n",
       "      <td>2.0</td>\n",
       "      <td>75.0</td>\n",
       "      <td>81.0</td>\n",
       "      <td>1.0</td>\n",
       "      <td>1400</td>\n",
       "      <td>0</td>\n",
       "      <td>...</td>\n",
       "      <td>0</td>\n",
       "      <td>0</td>\n",
       "      <td>1</td>\n",
       "      <td>0</td>\n",
       "      <td>0</td>\n",
       "      <td>0</td>\n",
       "      <td>0</td>\n",
       "      <td>1</td>\n",
       "      <td>1</td>\n",
       "      <td>0</td>\n",
       "    </tr>\n",
       "    <tr>\n",
       "      <th>1239</th>\n",
       "      <td>529840</td>\n",
       "      <td>38.3</td>\n",
       "      <td>50.0</td>\n",
       "      <td>12.0</td>\n",
       "      <td>3.0</td>\n",
       "      <td>37.0</td>\n",
       "      <td>6.8</td>\n",
       "      <td>2.6</td>\n",
       "      <td>2208</td>\n",
       "      <td>0</td>\n",
       "      <td>...</td>\n",
       "      <td>0</td>\n",
       "      <td>0</td>\n",
       "      <td>0</td>\n",
       "      <td>0</td>\n",
       "      <td>1</td>\n",
       "      <td>0</td>\n",
       "      <td>0</td>\n",
       "      <td>1</td>\n",
       "      <td>0</td>\n",
       "      <td>1</td>\n",
       "    </tr>\n",
       "  </tbody>\n",
       "</table>\n",
       "<p>5 rows × 83 columns</p>\n",
       "</div>"
      ],
      "text/plain": [
       "      hospital_number  rectal_temp  pulse  respiratory_rate  \\\n",
       "id                                                            \n",
       "1235           534053         38.6   40.0              20.0   \n",
       "1236           528469         38.2  112.0              48.0   \n",
       "1237           528178         37.7   66.0              12.0   \n",
       "1238           534784         37.1   88.0              20.0   \n",
       "1239           529840         38.3   50.0              12.0   \n",
       "\n",
       "      nasogastric_reflux_ph  packed_cell_volume  total_protein  \\\n",
       "id                                                               \n",
       "1235                    7.0                42.0            7.5   \n",
       "1236                    3.5                44.0            6.0   \n",
       "1237                    3.0                31.5            6.0   \n",
       "1238                    2.0                75.0           81.0   \n",
       "1239                    3.0                37.0            6.8   \n",
       "\n",
       "      abdomo_protein  lesion_1  lesion_2  ...  abdomen_normal  abdomen_other  \\\n",
       "id                                        ...                                  \n",
       "1235             2.3         0         0  ...               0              0   \n",
       "1236             2.6      2208         0  ...               0              0   \n",
       "1237             1.6      2205         0  ...               0              0   \n",
       "1238             1.0      1400         0  ...               0              0   \n",
       "1239             2.6      2208         0  ...               0              0   \n",
       "\n",
       "      abdomo_appearance_None  abdomo_appearance_clear  \\\n",
       "id                                                      \n",
       "1235                       0                        1   \n",
       "1236                       0                        0   \n",
       "1237                       0                        0   \n",
       "1238                       1                        0   \n",
       "1239                       0                        0   \n",
       "\n",
       "      abdomo_appearance_cloudy  abdomo_appearance_serosanguious  \\\n",
       "id                                                                \n",
       "1235                         0                                0   \n",
       "1236                         0                                1   \n",
       "1237                         1                                0   \n",
       "1238                         0                                0   \n",
       "1239                         1                                0   \n",
       "\n",
       "      surgical_lesion_no  surgical_lesion_yes  cp_data_no  cp_data_yes  \n",
       "id                                                                      \n",
       "1235                   1                    0           1            0  \n",
       "1236                   1                    0           0            1  \n",
       "1237                   0                    1           0            1  \n",
       "1238                   0                    1           1            0  \n",
       "1239                   0                    1           0            1  \n",
       "\n",
       "[5 rows x 83 columns]"
      ]
     },
     "execution_count": 26,
     "metadata": {},
     "output_type": "execute_result"
    }
   ],
   "source": [
    "df_test.head()"
   ]
  },
  {
   "cell_type": "code",
   "execution_count": 28,
   "id": "92642862",
   "metadata": {},
   "outputs": [
    {
     "data": {
      "text/html": [
       "<div>\n",
       "<style scoped>\n",
       "    .dataframe tbody tr th:only-of-type {\n",
       "        vertical-align: middle;\n",
       "    }\n",
       "\n",
       "    .dataframe tbody tr th {\n",
       "        vertical-align: top;\n",
       "    }\n",
       "\n",
       "    .dataframe thead th {\n",
       "        text-align: right;\n",
       "    }\n",
       "</style>\n",
       "<table border=\"1\" class=\"dataframe\">\n",
       "  <thead>\n",
       "    <tr style=\"text-align: right;\">\n",
       "      <th></th>\n",
       "      <th>rectal_temp</th>\n",
       "      <th>pulse</th>\n",
       "      <th>respiratory_rate</th>\n",
       "      <th>nasogastric_reflux_ph</th>\n",
       "      <th>packed_cell_volume</th>\n",
       "      <th>total_protein</th>\n",
       "      <th>abdomo_protein</th>\n",
       "      <th>lesion_1</th>\n",
       "      <th>lesion_2</th>\n",
       "      <th>lesion_3</th>\n",
       "    </tr>\n",
       "  </thead>\n",
       "  <tbody>\n",
       "    <tr>\n",
       "      <th>rectal_temp</th>\n",
       "      <td>1.000000</td>\n",
       "      <td>0.176761</td>\n",
       "      <td>0.124377</td>\n",
       "      <td>0.115980</td>\n",
       "      <td>0.088986</td>\n",
       "      <td>-0.060842</td>\n",
       "      <td>0.043342</td>\n",
       "      <td>0.021711</td>\n",
       "      <td>-0.022823</td>\n",
       "      <td>-0.005220</td>\n",
       "    </tr>\n",
       "    <tr>\n",
       "      <th>pulse</th>\n",
       "      <td>0.176761</td>\n",
       "      <td>1.000000</td>\n",
       "      <td>0.395130</td>\n",
       "      <td>-0.010132</td>\n",
       "      <td>0.435102</td>\n",
       "      <td>0.004373</td>\n",
       "      <td>0.056391</td>\n",
       "      <td>0.000037</td>\n",
       "      <td>0.021804</td>\n",
       "      <td>0.028273</td>\n",
       "    </tr>\n",
       "    <tr>\n",
       "      <th>respiratory_rate</th>\n",
       "      <td>0.124377</td>\n",
       "      <td>0.395130</td>\n",
       "      <td>1.000000</td>\n",
       "      <td>0.003854</td>\n",
       "      <td>0.188777</td>\n",
       "      <td>0.004018</td>\n",
       "      <td>0.004287</td>\n",
       "      <td>0.020502</td>\n",
       "      <td>-0.010536</td>\n",
       "      <td>0.009663</td>\n",
       "    </tr>\n",
       "    <tr>\n",
       "      <th>nasogastric_reflux_ph</th>\n",
       "      <td>0.115980</td>\n",
       "      <td>-0.010132</td>\n",
       "      <td>0.003854</td>\n",
       "      <td>1.000000</td>\n",
       "      <td>-0.101066</td>\n",
       "      <td>-0.583299</td>\n",
       "      <td>0.433006</td>\n",
       "      <td>0.052951</td>\n",
       "      <td>-0.029683</td>\n",
       "      <td>-0.024594</td>\n",
       "    </tr>\n",
       "    <tr>\n",
       "      <th>packed_cell_volume</th>\n",
       "      <td>0.088986</td>\n",
       "      <td>0.435102</td>\n",
       "      <td>0.188777</td>\n",
       "      <td>-0.101066</td>\n",
       "      <td>1.000000</td>\n",
       "      <td>0.176178</td>\n",
       "      <td>-0.059655</td>\n",
       "      <td>-0.083784</td>\n",
       "      <td>0.050659</td>\n",
       "      <td>0.051235</td>\n",
       "    </tr>\n",
       "    <tr>\n",
       "      <th>total_protein</th>\n",
       "      <td>-0.060842</td>\n",
       "      <td>0.004373</td>\n",
       "      <td>0.004018</td>\n",
       "      <td>-0.583299</td>\n",
       "      <td>0.176178</td>\n",
       "      <td>1.000000</td>\n",
       "      <td>-0.469784</td>\n",
       "      <td>-0.105598</td>\n",
       "      <td>0.044565</td>\n",
       "      <td>0.020635</td>\n",
       "    </tr>\n",
       "    <tr>\n",
       "      <th>abdomo_protein</th>\n",
       "      <td>0.043342</td>\n",
       "      <td>0.056391</td>\n",
       "      <td>0.004287</td>\n",
       "      <td>0.433006</td>\n",
       "      <td>-0.059655</td>\n",
       "      <td>-0.469784</td>\n",
       "      <td>1.000000</td>\n",
       "      <td>0.050051</td>\n",
       "      <td>0.002571</td>\n",
       "      <td>-0.022588</td>\n",
       "    </tr>\n",
       "    <tr>\n",
       "      <th>lesion_1</th>\n",
       "      <td>0.021711</td>\n",
       "      <td>0.000037</td>\n",
       "      <td>0.020502</td>\n",
       "      <td>0.052951</td>\n",
       "      <td>-0.083784</td>\n",
       "      <td>-0.105598</td>\n",
       "      <td>0.050051</td>\n",
       "      <td>1.000000</td>\n",
       "      <td>-0.007595</td>\n",
       "      <td>0.002761</td>\n",
       "    </tr>\n",
       "    <tr>\n",
       "      <th>lesion_2</th>\n",
       "      <td>-0.022823</td>\n",
       "      <td>0.021804</td>\n",
       "      <td>-0.010536</td>\n",
       "      <td>-0.029683</td>\n",
       "      <td>0.050659</td>\n",
       "      <td>0.044565</td>\n",
       "      <td>0.002571</td>\n",
       "      <td>-0.007595</td>\n",
       "      <td>1.000000</td>\n",
       "      <td>0.644054</td>\n",
       "    </tr>\n",
       "    <tr>\n",
       "      <th>lesion_3</th>\n",
       "      <td>-0.005220</td>\n",
       "      <td>0.028273</td>\n",
       "      <td>0.009663</td>\n",
       "      <td>-0.024594</td>\n",
       "      <td>0.051235</td>\n",
       "      <td>0.020635</td>\n",
       "      <td>-0.022588</td>\n",
       "      <td>0.002761</td>\n",
       "      <td>0.644054</td>\n",
       "      <td>1.000000</td>\n",
       "    </tr>\n",
       "  </tbody>\n",
       "</table>\n",
       "</div>"
      ],
      "text/plain": [
       "                       rectal_temp     pulse  respiratory_rate  \\\n",
       "rectal_temp               1.000000  0.176761          0.124377   \n",
       "pulse                     0.176761  1.000000          0.395130   \n",
       "respiratory_rate          0.124377  0.395130          1.000000   \n",
       "nasogastric_reflux_ph     0.115980 -0.010132          0.003854   \n",
       "packed_cell_volume        0.088986  0.435102          0.188777   \n",
       "total_protein            -0.060842  0.004373          0.004018   \n",
       "abdomo_protein            0.043342  0.056391          0.004287   \n",
       "lesion_1                  0.021711  0.000037          0.020502   \n",
       "lesion_2                 -0.022823  0.021804         -0.010536   \n",
       "lesion_3                 -0.005220  0.028273          0.009663   \n",
       "\n",
       "                       nasogastric_reflux_ph  packed_cell_volume  \\\n",
       "rectal_temp                         0.115980            0.088986   \n",
       "pulse                              -0.010132            0.435102   \n",
       "respiratory_rate                    0.003854            0.188777   \n",
       "nasogastric_reflux_ph               1.000000           -0.101066   \n",
       "packed_cell_volume                 -0.101066            1.000000   \n",
       "total_protein                      -0.583299            0.176178   \n",
       "abdomo_protein                      0.433006           -0.059655   \n",
       "lesion_1                            0.052951           -0.083784   \n",
       "lesion_2                           -0.029683            0.050659   \n",
       "lesion_3                           -0.024594            0.051235   \n",
       "\n",
       "                       total_protein  abdomo_protein  lesion_1  lesion_2  \\\n",
       "rectal_temp                -0.060842        0.043342  0.021711 -0.022823   \n",
       "pulse                       0.004373        0.056391  0.000037  0.021804   \n",
       "respiratory_rate            0.004018        0.004287  0.020502 -0.010536   \n",
       "nasogastric_reflux_ph      -0.583299        0.433006  0.052951 -0.029683   \n",
       "packed_cell_volume          0.176178       -0.059655 -0.083784  0.050659   \n",
       "total_protein               1.000000       -0.469784 -0.105598  0.044565   \n",
       "abdomo_protein             -0.469784        1.000000  0.050051  0.002571   \n",
       "lesion_1                   -0.105598        0.050051  1.000000 -0.007595   \n",
       "lesion_2                    0.044565        0.002571 -0.007595  1.000000   \n",
       "lesion_3                    0.020635       -0.022588  0.002761  0.644054   \n",
       "\n",
       "                       lesion_3  \n",
       "rectal_temp           -0.005220  \n",
       "pulse                  0.028273  \n",
       "respiratory_rate       0.009663  \n",
       "nasogastric_reflux_ph -0.024594  \n",
       "packed_cell_volume     0.051235  \n",
       "total_protein          0.020635  \n",
       "abdomo_protein        -0.022588  \n",
       "lesion_1               0.002761  \n",
       "lesion_2               0.644054  \n",
       "lesion_3               1.000000  "
      ]
     },
     "execution_count": 28,
     "metadata": {},
     "output_type": "execute_result"
    }
   ],
   "source": [
    "#check for strongly correlated numerical feature\n",
    "df_train[numerical_columns].corr()"
   ]
  },
  {
   "cell_type": "code",
   "execution_count": 29,
   "id": "6c1f9383",
   "metadata": {},
   "outputs": [],
   "source": [
    "#extract the features and target, also drop hospital number\n",
    "\n",
    "X, y = df_train.drop([\"hospital_number\",\"outcome\"], axis =1), df_train[\"outcome\"]\n",
    "X_test  = df_test.drop(\"hospital_number\", axis = 1)"
   ]
  },
  {
   "cell_type": "code",
   "execution_count": 30,
   "id": "4c8e355d",
   "metadata": {},
   "outputs": [],
   "source": [
    "#import an appropriate classifier\n",
    "import xgboost as xgb"
   ]
  },
  {
   "cell_type": "code",
   "execution_count": 60,
   "id": "e4714626",
   "metadata": {},
   "outputs": [],
   "source": [
    "#Use l2 regularization to reduce underfiting\n",
    "model = xgb.XGBClassifier(objective=\"multi:softmax\",\n",
    "                          num_class = 3,\n",
    "                          n_estimators = 200,\n",
    "                          eval_metric = [\"mlogloss\"],\n",
    "                          early_stopping_rounds = 10,\n",
    "                          reg_lambda = 1000)"
   ]
  },
  {
   "cell_type": "code",
   "execution_count": 61,
   "id": "f57c085e",
   "metadata": {},
   "outputs": [],
   "source": [
    "#ectract some validation data from the train data\n",
    "from sklearn.model_selection import train_test_split"
   ]
  },
  {
   "cell_type": "code",
   "execution_count": 62,
   "id": "7a7fc474",
   "metadata": {},
   "outputs": [],
   "source": [
    "X_train, X_val, y_train, y_val = train_test_split(X, y, test_size = 0.3, random_state =0)"
   ]
  },
  {
   "cell_type": "code",
   "execution_count": 63,
   "id": "2a800994",
   "metadata": {},
   "outputs": [
    {
     "name": "stdout",
     "output_type": "stream",
     "text": [
      "[0]\tvalidation_0-mlogloss:1.07972\tvalidation_1-mlogloss:1.08062\n",
      "[1]\tvalidation_0-mlogloss:1.06196\tvalidation_1-mlogloss:1.06370\n",
      "[2]\tvalidation_0-mlogloss:1.04520\tvalidation_1-mlogloss:1.04775\n",
      "[3]\tvalidation_0-mlogloss:1.02946\tvalidation_1-mlogloss:1.03280\n",
      "[4]\tvalidation_0-mlogloss:1.01471\tvalidation_1-mlogloss:1.01897\n",
      "[5]\tvalidation_0-mlogloss:1.00067\tvalidation_1-mlogloss:1.00619\n",
      "[6]\tvalidation_0-mlogloss:0.98745\tvalidation_1-mlogloss:0.99400\n",
      "[7]\tvalidation_0-mlogloss:0.97493\tvalidation_1-mlogloss:0.98265\n",
      "[8]\tvalidation_0-mlogloss:0.96307\tvalidation_1-mlogloss:0.97206\n",
      "[9]\tvalidation_0-mlogloss:0.95141\tvalidation_1-mlogloss:0.96102\n",
      "[10]\tvalidation_0-mlogloss:0.94090\tvalidation_1-mlogloss:0.95158\n",
      "[11]\tvalidation_0-mlogloss:0.93035\tvalidation_1-mlogloss:0.94255\n",
      "[12]\tvalidation_0-mlogloss:0.92023\tvalidation_1-mlogloss:0.93344\n",
      "[13]\tvalidation_0-mlogloss:0.91114\tvalidation_1-mlogloss:0.92551\n",
      "[14]\tvalidation_0-mlogloss:0.90183\tvalidation_1-mlogloss:0.91719\n",
      "[15]\tvalidation_0-mlogloss:0.89367\tvalidation_1-mlogloss:0.91024\n",
      "[16]\tvalidation_0-mlogloss:0.88548\tvalidation_1-mlogloss:0.90257\n",
      "[17]\tvalidation_0-mlogloss:0.87756\tvalidation_1-mlogloss:0.89611\n",
      "[18]\tvalidation_0-mlogloss:0.86998\tvalidation_1-mlogloss:0.88923\n",
      "[19]\tvalidation_0-mlogloss:0.86290\tvalidation_1-mlogloss:0.88295\n",
      "[20]\tvalidation_0-mlogloss:0.85591\tvalidation_1-mlogloss:0.87716\n",
      "[21]\tvalidation_0-mlogloss:0.84935\tvalidation_1-mlogloss:0.87161\n",
      "[22]\tvalidation_0-mlogloss:0.84293\tvalidation_1-mlogloss:0.86635\n",
      "[23]\tvalidation_0-mlogloss:0.83685\tvalidation_1-mlogloss:0.86117\n",
      "[24]\tvalidation_0-mlogloss:0.83101\tvalidation_1-mlogloss:0.85632\n",
      "[25]\tvalidation_0-mlogloss:0.82540\tvalidation_1-mlogloss:0.85104\n",
      "[26]\tvalidation_0-mlogloss:0.82003\tvalidation_1-mlogloss:0.84657\n",
      "[27]\tvalidation_0-mlogloss:0.81483\tvalidation_1-mlogloss:0.84215\n",
      "[28]\tvalidation_0-mlogloss:0.80984\tvalidation_1-mlogloss:0.83807\n",
      "[29]\tvalidation_0-mlogloss:0.80505\tvalidation_1-mlogloss:0.83413\n",
      "[30]\tvalidation_0-mlogloss:0.80032\tvalidation_1-mlogloss:0.83052\n",
      "[31]\tvalidation_0-mlogloss:0.79576\tvalidation_1-mlogloss:0.82708\n",
      "[32]\tvalidation_0-mlogloss:0.79148\tvalidation_1-mlogloss:0.82334\n",
      "[33]\tvalidation_0-mlogloss:0.78695\tvalidation_1-mlogloss:0.81982\n",
      "[34]\tvalidation_0-mlogloss:0.78264\tvalidation_1-mlogloss:0.81620\n",
      "[35]\tvalidation_0-mlogloss:0.77855\tvalidation_1-mlogloss:0.81277\n",
      "[36]\tvalidation_0-mlogloss:0.77455\tvalidation_1-mlogloss:0.80968\n",
      "[37]\tvalidation_0-mlogloss:0.77040\tvalidation_1-mlogloss:0.80576\n",
      "[38]\tvalidation_0-mlogloss:0.76642\tvalidation_1-mlogloss:0.80276\n",
      "[39]\tvalidation_0-mlogloss:0.76268\tvalidation_1-mlogloss:0.80011\n",
      "[40]\tvalidation_0-mlogloss:0.75895\tvalidation_1-mlogloss:0.79716\n",
      "[41]\tvalidation_0-mlogloss:0.75517\tvalidation_1-mlogloss:0.79419\n",
      "[42]\tvalidation_0-mlogloss:0.75158\tvalidation_1-mlogloss:0.79127\n",
      "[43]\tvalidation_0-mlogloss:0.74815\tvalidation_1-mlogloss:0.78907\n",
      "[44]\tvalidation_0-mlogloss:0.74485\tvalidation_1-mlogloss:0.78615\n",
      "[45]\tvalidation_0-mlogloss:0.74164\tvalidation_1-mlogloss:0.78374\n",
      "[46]\tvalidation_0-mlogloss:0.73841\tvalidation_1-mlogloss:0.78152\n",
      "[47]\tvalidation_0-mlogloss:0.73531\tvalidation_1-mlogloss:0.77916\n",
      "[48]\tvalidation_0-mlogloss:0.73232\tvalidation_1-mlogloss:0.77738\n",
      "[49]\tvalidation_0-mlogloss:0.72919\tvalidation_1-mlogloss:0.77457\n",
      "[50]\tvalidation_0-mlogloss:0.72655\tvalidation_1-mlogloss:0.77284\n",
      "[51]\tvalidation_0-mlogloss:0.72359\tvalidation_1-mlogloss:0.77051\n",
      "[52]\tvalidation_0-mlogloss:0.72072\tvalidation_1-mlogloss:0.76829\n",
      "[53]\tvalidation_0-mlogloss:0.71804\tvalidation_1-mlogloss:0.76633\n",
      "[54]\tvalidation_0-mlogloss:0.71544\tvalidation_1-mlogloss:0.76451\n",
      "[55]\tvalidation_0-mlogloss:0.71275\tvalidation_1-mlogloss:0.76226\n",
      "[56]\tvalidation_0-mlogloss:0.71022\tvalidation_1-mlogloss:0.76059\n",
      "[57]\tvalidation_0-mlogloss:0.70759\tvalidation_1-mlogloss:0.75826\n",
      "[58]\tvalidation_0-mlogloss:0.70534\tvalidation_1-mlogloss:0.75688\n",
      "[59]\tvalidation_0-mlogloss:0.70280\tvalidation_1-mlogloss:0.75507\n",
      "[60]\tvalidation_0-mlogloss:0.70039\tvalidation_1-mlogloss:0.75342\n",
      "[61]\tvalidation_0-mlogloss:0.69801\tvalidation_1-mlogloss:0.75165\n",
      "[62]\tvalidation_0-mlogloss:0.69586\tvalidation_1-mlogloss:0.75018\n",
      "[63]\tvalidation_0-mlogloss:0.69365\tvalidation_1-mlogloss:0.74849\n",
      "[64]\tvalidation_0-mlogloss:0.69142\tvalidation_1-mlogloss:0.74665\n",
      "[65]\tvalidation_0-mlogloss:0.68927\tvalidation_1-mlogloss:0.74511\n",
      "[66]\tvalidation_0-mlogloss:0.68727\tvalidation_1-mlogloss:0.74387\n",
      "[67]\tvalidation_0-mlogloss:0.68514\tvalidation_1-mlogloss:0.74230\n",
      "[68]\tvalidation_0-mlogloss:0.68296\tvalidation_1-mlogloss:0.74091\n",
      "[69]\tvalidation_0-mlogloss:0.68089\tvalidation_1-mlogloss:0.73926\n",
      "[70]\tvalidation_0-mlogloss:0.67895\tvalidation_1-mlogloss:0.73796\n",
      "[71]\tvalidation_0-mlogloss:0.67693\tvalidation_1-mlogloss:0.73626\n",
      "[72]\tvalidation_0-mlogloss:0.67519\tvalidation_1-mlogloss:0.73541\n",
      "[73]\tvalidation_0-mlogloss:0.67329\tvalidation_1-mlogloss:0.73400\n",
      "[74]\tvalidation_0-mlogloss:0.67145\tvalidation_1-mlogloss:0.73258\n",
      "[75]\tvalidation_0-mlogloss:0.66959\tvalidation_1-mlogloss:0.73111\n",
      "[76]\tvalidation_0-mlogloss:0.66765\tvalidation_1-mlogloss:0.73005\n",
      "[77]\tvalidation_0-mlogloss:0.66584\tvalidation_1-mlogloss:0.72869\n",
      "[78]\tvalidation_0-mlogloss:0.66414\tvalidation_1-mlogloss:0.72753\n",
      "[79]\tvalidation_0-mlogloss:0.66242\tvalidation_1-mlogloss:0.72655\n",
      "[80]\tvalidation_0-mlogloss:0.66071\tvalidation_1-mlogloss:0.72530\n",
      "[81]\tvalidation_0-mlogloss:0.65894\tvalidation_1-mlogloss:0.72441\n",
      "[82]\tvalidation_0-mlogloss:0.65721\tvalidation_1-mlogloss:0.72343\n",
      "[83]\tvalidation_0-mlogloss:0.65557\tvalidation_1-mlogloss:0.72244\n",
      "[84]\tvalidation_0-mlogloss:0.65395\tvalidation_1-mlogloss:0.72191\n",
      "[85]\tvalidation_0-mlogloss:0.65210\tvalidation_1-mlogloss:0.72091\n",
      "[86]\tvalidation_0-mlogloss:0.65058\tvalidation_1-mlogloss:0.72011\n",
      "[87]\tvalidation_0-mlogloss:0.64896\tvalidation_1-mlogloss:0.71946\n",
      "[88]\tvalidation_0-mlogloss:0.64734\tvalidation_1-mlogloss:0.71872\n",
      "[89]\tvalidation_0-mlogloss:0.64581\tvalidation_1-mlogloss:0.71782\n",
      "[90]\tvalidation_0-mlogloss:0.64434\tvalidation_1-mlogloss:0.71746\n",
      "[91]\tvalidation_0-mlogloss:0.64261\tvalidation_1-mlogloss:0.71634\n",
      "[92]\tvalidation_0-mlogloss:0.64111\tvalidation_1-mlogloss:0.71539\n",
      "[93]\tvalidation_0-mlogloss:0.63960\tvalidation_1-mlogloss:0.71478\n",
      "[94]\tvalidation_0-mlogloss:0.63814\tvalidation_1-mlogloss:0.71407\n",
      "[95]\tvalidation_0-mlogloss:0.63670\tvalidation_1-mlogloss:0.71301\n",
      "[96]\tvalidation_0-mlogloss:0.63527\tvalidation_1-mlogloss:0.71229\n",
      "[97]\tvalidation_0-mlogloss:0.63371\tvalidation_1-mlogloss:0.71147\n",
      "[98]\tvalidation_0-mlogloss:0.63226\tvalidation_1-mlogloss:0.71080\n",
      "[99]\tvalidation_0-mlogloss:0.63087\tvalidation_1-mlogloss:0.71015\n",
      "[100]\tvalidation_0-mlogloss:0.62954\tvalidation_1-mlogloss:0.70908\n",
      "[101]\tvalidation_0-mlogloss:0.62816\tvalidation_1-mlogloss:0.70830\n",
      "[102]\tvalidation_0-mlogloss:0.62677\tvalidation_1-mlogloss:0.70758\n",
      "[103]\tvalidation_0-mlogloss:0.62524\tvalidation_1-mlogloss:0.70681\n",
      "[104]\tvalidation_0-mlogloss:0.62390\tvalidation_1-mlogloss:0.70577\n",
      "[105]\tvalidation_0-mlogloss:0.62258\tvalidation_1-mlogloss:0.70529\n",
      "[106]\tvalidation_0-mlogloss:0.62129\tvalidation_1-mlogloss:0.70461\n",
      "[107]\tvalidation_0-mlogloss:0.61994\tvalidation_1-mlogloss:0.70345\n",
      "[108]\tvalidation_0-mlogloss:0.61860\tvalidation_1-mlogloss:0.70317\n",
      "[109]\tvalidation_0-mlogloss:0.61732\tvalidation_1-mlogloss:0.70203\n",
      "[110]\tvalidation_0-mlogloss:0.61604\tvalidation_1-mlogloss:0.70143\n",
      "[111]\tvalidation_0-mlogloss:0.61477\tvalidation_1-mlogloss:0.70091\n",
      "[112]\tvalidation_0-mlogloss:0.61350\tvalidation_1-mlogloss:0.69984\n",
      "[113]\tvalidation_0-mlogloss:0.61208\tvalidation_1-mlogloss:0.69904\n",
      "[114]\tvalidation_0-mlogloss:0.61086\tvalidation_1-mlogloss:0.69838\n",
      "[115]\tvalidation_0-mlogloss:0.60963\tvalidation_1-mlogloss:0.69765\n",
      "[116]\tvalidation_0-mlogloss:0.60839\tvalidation_1-mlogloss:0.69646\n",
      "[117]\tvalidation_0-mlogloss:0.60720\tvalidation_1-mlogloss:0.69613\n",
      "[118]\tvalidation_0-mlogloss:0.60604\tvalidation_1-mlogloss:0.69520\n",
      "[119]\tvalidation_0-mlogloss:0.60487\tvalidation_1-mlogloss:0.69467\n",
      "[120]\tvalidation_0-mlogloss:0.60368\tvalidation_1-mlogloss:0.69446\n",
      "[121]\tvalidation_0-mlogloss:0.60250\tvalidation_1-mlogloss:0.69399\n",
      "[122]\tvalidation_0-mlogloss:0.60120\tvalidation_1-mlogloss:0.69312\n",
      "[123]\tvalidation_0-mlogloss:0.60009\tvalidation_1-mlogloss:0.69272\n",
      "[124]\tvalidation_0-mlogloss:0.59894\tvalidation_1-mlogloss:0.69181\n",
      "[125]\tvalidation_0-mlogloss:0.59783\tvalidation_1-mlogloss:0.69136\n",
      "[126]\tvalidation_0-mlogloss:0.59672\tvalidation_1-mlogloss:0.69125\n",
      "[127]\tvalidation_0-mlogloss:0.59551\tvalidation_1-mlogloss:0.69038\n",
      "[128]\tvalidation_0-mlogloss:0.59445\tvalidation_1-mlogloss:0.68999\n",
      "[129]\tvalidation_0-mlogloss:0.59339\tvalidation_1-mlogloss:0.68909\n",
      "[130]\tvalidation_0-mlogloss:0.59231\tvalidation_1-mlogloss:0.68893\n",
      "[131]\tvalidation_0-mlogloss:0.59109\tvalidation_1-mlogloss:0.68844\n",
      "[132]\tvalidation_0-mlogloss:0.59000\tvalidation_1-mlogloss:0.68752\n",
      "[133]\tvalidation_0-mlogloss:0.58889\tvalidation_1-mlogloss:0.68745\n",
      "[134]\tvalidation_0-mlogloss:0.58784\tvalidation_1-mlogloss:0.68726\n",
      "[135]\tvalidation_0-mlogloss:0.58680\tvalidation_1-mlogloss:0.68713\n",
      "[136]\tvalidation_0-mlogloss:0.58578\tvalidation_1-mlogloss:0.68645\n",
      "[137]\tvalidation_0-mlogloss:0.58477\tvalidation_1-mlogloss:0.68604\n",
      "[138]\tvalidation_0-mlogloss:0.58370\tvalidation_1-mlogloss:0.68527\n",
      "[139]\tvalidation_0-mlogloss:0.58272\tvalidation_1-mlogloss:0.68499\n",
      "[140]\tvalidation_0-mlogloss:0.58165\tvalidation_1-mlogloss:0.68466\n",
      "[141]\tvalidation_0-mlogloss:0.58068\tvalidation_1-mlogloss:0.68455\n",
      "[142]\tvalidation_0-mlogloss:0.57967\tvalidation_1-mlogloss:0.68386\n",
      "[143]\tvalidation_0-mlogloss:0.57853\tvalidation_1-mlogloss:0.68345\n",
      "[144]\tvalidation_0-mlogloss:0.57758\tvalidation_1-mlogloss:0.68289\n",
      "[145]\tvalidation_0-mlogloss:0.57664\tvalidation_1-mlogloss:0.68252\n",
      "[146]\tvalidation_0-mlogloss:0.57565\tvalidation_1-mlogloss:0.68173\n",
      "[147]\tvalidation_0-mlogloss:0.57469\tvalidation_1-mlogloss:0.68145\n",
      "[148]\tvalidation_0-mlogloss:0.57372\tvalidation_1-mlogloss:0.68098\n",
      "[149]\tvalidation_0-mlogloss:0.57278\tvalidation_1-mlogloss:0.68073\n",
      "[150]\tvalidation_0-mlogloss:0.57183\tvalidation_1-mlogloss:0.68010\n",
      "[151]\tvalidation_0-mlogloss:0.57092\tvalidation_1-mlogloss:0.67973\n",
      "[152]\tvalidation_0-mlogloss:0.56994\tvalidation_1-mlogloss:0.67951\n",
      "[153]\tvalidation_0-mlogloss:0.56901\tvalidation_1-mlogloss:0.67900\n",
      "[154]\tvalidation_0-mlogloss:0.56813\tvalidation_1-mlogloss:0.67867\n",
      "[155]\tvalidation_0-mlogloss:0.56725\tvalidation_1-mlogloss:0.67811\n",
      "[156]\tvalidation_0-mlogloss:0.56637\tvalidation_1-mlogloss:0.67782\n",
      "[157]\tvalidation_0-mlogloss:0.56540\tvalidation_1-mlogloss:0.67751\n",
      "[158]\tvalidation_0-mlogloss:0.56440\tvalidation_1-mlogloss:0.67711\n",
      "[159]\tvalidation_0-mlogloss:0.56346\tvalidation_1-mlogloss:0.67656\n",
      "[160]\tvalidation_0-mlogloss:0.56257\tvalidation_1-mlogloss:0.67641\n",
      "[161]\tvalidation_0-mlogloss:0.56169\tvalidation_1-mlogloss:0.67579\n",
      "[162]\tvalidation_0-mlogloss:0.56076\tvalidation_1-mlogloss:0.67563\n",
      "[163]\tvalidation_0-mlogloss:0.55989\tvalidation_1-mlogloss:0.67553\n",
      "[164]\tvalidation_0-mlogloss:0.55891\tvalidation_1-mlogloss:0.67516\n",
      "[165]\tvalidation_0-mlogloss:0.55804\tvalidation_1-mlogloss:0.67509\n",
      "[166]\tvalidation_0-mlogloss:0.55714\tvalidation_1-mlogloss:0.67447\n",
      "[167]\tvalidation_0-mlogloss:0.55626\tvalidation_1-mlogloss:0.67405\n",
      "[168]\tvalidation_0-mlogloss:0.55548\tvalidation_1-mlogloss:0.67393\n",
      "[169]\tvalidation_0-mlogloss:0.55462\tvalidation_1-mlogloss:0.67362\n",
      "[170]\tvalidation_0-mlogloss:0.55373\tvalidation_1-mlogloss:0.67319\n",
      "[171]\tvalidation_0-mlogloss:0.55285\tvalidation_1-mlogloss:0.67294\n",
      "[172]\tvalidation_0-mlogloss:0.55192\tvalidation_1-mlogloss:0.67253\n",
      "[173]\tvalidation_0-mlogloss:0.55098\tvalidation_1-mlogloss:0.67204\n",
      "[174]\tvalidation_0-mlogloss:0.55005\tvalidation_1-mlogloss:0.67167\n",
      "[175]\tvalidation_0-mlogloss:0.54913\tvalidation_1-mlogloss:0.67128\n",
      "[176]\tvalidation_0-mlogloss:0.54823\tvalidation_1-mlogloss:0.67085\n",
      "[177]\tvalidation_0-mlogloss:0.54735\tvalidation_1-mlogloss:0.67057\n",
      "[178]\tvalidation_0-mlogloss:0.54642\tvalidation_1-mlogloss:0.67025\n",
      "[179]\tvalidation_0-mlogloss:0.54560\tvalidation_1-mlogloss:0.67006\n",
      "[180]\tvalidation_0-mlogloss:0.54485\tvalidation_1-mlogloss:0.66992\n",
      "[181]\tvalidation_0-mlogloss:0.54399\tvalidation_1-mlogloss:0.66962\n",
      "[182]\tvalidation_0-mlogloss:0.54313\tvalidation_1-mlogloss:0.66926\n",
      "[183]\tvalidation_0-mlogloss:0.54228\tvalidation_1-mlogloss:0.66879\n",
      "[184]\tvalidation_0-mlogloss:0.54138\tvalidation_1-mlogloss:0.66868\n",
      "[185]\tvalidation_0-mlogloss:0.54049\tvalidation_1-mlogloss:0.66824\n",
      "[186]\tvalidation_0-mlogloss:0.53978\tvalidation_1-mlogloss:0.66820\n",
      "[187]\tvalidation_0-mlogloss:0.53897\tvalidation_1-mlogloss:0.66793\n",
      "[188]\tvalidation_0-mlogloss:0.53807\tvalidation_1-mlogloss:0.66749\n",
      "[189]\tvalidation_0-mlogloss:0.53732\tvalidation_1-mlogloss:0.66703\n",
      "[190]\tvalidation_0-mlogloss:0.53659\tvalidation_1-mlogloss:0.66672\n",
      "[191]\tvalidation_0-mlogloss:0.53573\tvalidation_1-mlogloss:0.66630\n",
      "[192]\tvalidation_0-mlogloss:0.53490\tvalidation_1-mlogloss:0.66620\n",
      "[193]\tvalidation_0-mlogloss:0.53417\tvalidation_1-mlogloss:0.66583\n",
      "[194]\tvalidation_0-mlogloss:0.53342\tvalidation_1-mlogloss:0.66544\n",
      "[195]\tvalidation_0-mlogloss:0.53267\tvalidation_1-mlogloss:0.66516\n",
      "[196]\tvalidation_0-mlogloss:0.53191\tvalidation_1-mlogloss:0.66478\n",
      "[197]\tvalidation_0-mlogloss:0.53099\tvalidation_1-mlogloss:0.66448\n",
      "[198]\tvalidation_0-mlogloss:0.53025\tvalidation_1-mlogloss:0.66407\n",
      "[199]\tvalidation_0-mlogloss:0.52950\tvalidation_1-mlogloss:0.66408\n"
     ]
    },
    {
     "data": {
      "text/plain": [
       "XGBClassifier(base_score=None, booster=None, callbacks=None,\n",
       "              colsample_bylevel=None, colsample_bynode=None,\n",
       "              colsample_bytree=None, device=None, early_stopping_rounds=10,\n",
       "              enable_categorical=False, eval_metric=['mlogloss'],\n",
       "              feature_types=None, gamma=None, grow_policy=None,\n",
       "              importance_type=None, interaction_constraints=None,\n",
       "              learning_rate=None, max_bin=None, max_cat_threshold=None,\n",
       "              max_cat_to_onehot=None, max_delta_step=None, max_depth=None,\n",
       "              max_leaves=None, min_child_weight=None, missing=nan,\n",
       "              monotone_constraints=None, multi_strategy=None, n_estimators=200,\n",
       "              n_jobs=None, num_class=3, num_parallel_tree=None, ...)"
      ]
     },
     "execution_count": 63,
     "metadata": {},
     "output_type": "execute_result"
    }
   ],
   "source": [
    "#fit the model\n",
    "model.fit(X_train, y_train,\n",
    "          eval_set = [(X_train,y_train), (X_val, y_val)]\n",
    "         )"
   ]
  },
  {
   "cell_type": "code",
   "execution_count": 64,
   "id": "ef83b3b8",
   "metadata": {},
   "outputs": [],
   "source": [
    "#check model performance\n",
    "eval_result = model.evals_result()    "
   ]
  },
  {
   "cell_type": "code",
   "execution_count": 65,
   "id": "c6dc3ae7",
   "metadata": {},
   "outputs": [],
   "source": [
    "training_rounds = range(len(eval_result[\"validation_0\"][\"mlogloss\"]))"
   ]
  },
  {
   "cell_type": "code",
   "execution_count": 66,
   "id": "e599f261",
   "metadata": {},
   "outputs": [
    {
     "data": {
      "image/png": "[encoded data removed]",
      "text/plain": [
       "<Figure size 432x288 with 1 Axes>"
      ]
     },
     "metadata": {
      "needs_background": "light"
     },
     "output_type": "display_data"
    }
   ],
   "source": [
    "plt.scatter(x=training_rounds, y = eval_result[\"validation_0\"][\"mlogloss\"], label = \"Training Error\")\n",
    "plt.scatter(x=training_rounds, y = eval_result[\"validation_1\"][\"mlogloss\"], label = \"Validation Error\")\n",
    "plt.grid(True)\n",
    "plt.xlabel(\"Iteration\")\n",
    "plt.ylabel(\"LogLoss\")\n",
    "plt.title(\"Training Vs. Validation Error\")\n",
    "plt.legend()\n",
    "plt.show()\n"
   ]
  },
  {
   "cell_type": "code",
   "execution_count": 67,
   "id": "67a73ef4",
   "metadata": {},
   "outputs": [
    {
     "data": {
      "image/png": "[encoded data removed]",
      "text/plain": [
       "<Figure size 432x288 with 1 Axes>"
      ]
     },
     "metadata": {
      "needs_background": "light"
     },
     "output_type": "display_data"
    }
   ],
   "source": [
    "#check import features\n",
    "xgb.plot_importance(model, max_num_features=15)\n",
    "plt.show()"
   ]
  },
  {
   "cell_type": "code",
   "execution_count": 68,
   "id": "8a874aa4",
   "metadata": {},
   "outputs": [],
   "source": [
    "from sklearn.metrics import classification_report"
   ]
  },
  {
   "cell_type": "code",
   "execution_count": 69,
   "id": "58fdcdf5",
   "metadata": {},
   "outputs": [],
   "source": [
    "y_pred = model.predict(X_val)"
   ]
  },
  {
   "cell_type": "code",
   "execution_count": 70,
   "id": "7dc167c4",
   "metadata": {},
   "outputs": [],
   "source": [
    "report = classification_report(y_val, y_pred, target_names = [\"died\",\"euthanized\",\"lived\"])"
   ]
  },
  {
   "cell_type": "code",
   "execution_count": 71,
   "id": "5d6d8221",
   "metadata": {},
   "outputs": [
    {
     "name": "stdout",
     "output_type": "stream",
     "text": [
      "              precision    recall  f1-score   support\n",
      "\n",
      "        died       0.70      0.77      0.73       130\n",
      "  euthanized       0.79      0.63      0.70        70\n",
      "       lived       0.76      0.76      0.76       171\n",
      "\n",
      "    accuracy                           0.74       371\n",
      "   macro avg       0.75      0.72      0.73       371\n",
      "weighted avg       0.74      0.74      0.74       371\n",
      "\n"
     ]
    }
   ],
   "source": [
    "print(report)"
   ]
  },
  {
   "cell_type": "code",
   "execution_count": 78,
   "id": "a54f7d3f",
   "metadata": {},
   "outputs": [],
   "source": [
    "#return the predicted value\n",
    "y_test = label_encoder.inverse_transform(model.predict(X_test))"
   ]
  },
  {
   "cell_type": "code",
   "execution_count": 84,
   "id": "040cf838",
   "metadata": {},
   "outputs": [],
   "source": []
  },
  {
   "cell_type": "code",
   "execution_count": null,
   "id": "92165145",
   "metadata": {},
   "outputs": [],
   "source": []
  }
 ],
 "metadata": {
  "kernelspec": {
   "display_name": "Python 3 (ipykernel)",
   "language": "python",
   "name": "python3"
  },
  "language_info": {
   "codemirror_mode": {
    "name": "ipython",
    "version": 3
   },
   "file_extension": ".py",
   "mimetype": "text/x-python",
   "name": "python",
   "nbconvert_exporter": "python",
   "pygments_lexer": "ipython3",
   "version": "3.8.12"
  }
 },
 "nbformat": 4,
 "nbformat_minor": 5
}
